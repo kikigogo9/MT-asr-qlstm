{
 "cells": [
  {
   "cell_type": "code",
   "execution_count": 1,
   "metadata": {},
   "outputs": [
    {
     "name": "stdout",
     "output_type": "stream",
     "text": [
      "WARNING:tensorflow:From c:\\Users\\Kiki\\AppData\\Local\\Programs\\Python\\Python311\\Lib\\site-packages\\keras\\src\\losses.py:2976: The name tf.losses.sparse_softmax_cross_entropy is deprecated. Please use tf.compat.v1.losses.sparse_softmax_cross_entropy instead.\n",
      "\n",
      "Using Quantum Device: <lightning.qubit device (wires=7) at 0x26bf0671290>\n"
     ]
    }
   ],
   "source": [
    "import numpy as np\n",
    "import keras\n",
    "from keras.layers import *\n",
    "import tensorflow as tf\n",
    "tf.get_logger().setLevel('ERROR')\n",
    "from q_lstm_tf_v2 import QLSTM, dtype_global\n",
    "from matplotlib import pyplot as plt\n",
    "from keras.models import load_model\n",
    "tf.keras.backend.set_floatx('float64')\n",
    "import os\n",
    "import dev"
   ]
  },
  {
   "cell_type": "markdown",
   "metadata": {},
   "source": [
    "# Check for GPU availibility"
   ]
  },
  {
   "cell_type": "code",
   "execution_count": 2,
   "metadata": {},
   "outputs": [
    {
     "name": "stdout",
     "output_type": "stream",
     "text": [
      "Num GPUs Available:  0\n"
     ]
    }
   ],
   "source": [
    "print(\"Num GPUs Available: \", len(tf.config.list_physical_devices('GPU')))"
   ]
  },
  {
   "cell_type": "code",
   "execution_count": null,
   "metadata": {},
   "outputs": [
    {
     "name": "stdout",
     "output_type": "stream",
     "text": [
      "Model: \"sequential\"\n",
      "_________________________________________________________________\n",
      " Layer (type)                Output Shape              Param #   \n",
      "=================================================================\n",
      " conv1d (Conv1D)             (None, 124, 64)           24832     \n",
      "                                                                 \n",
      " max_pooling1d (MaxPooling1  (None, 62, 64)            0         \n",
      " D)                                                              \n",
      "                                                                 \n",
      " conv1d_1 (Conv1D)           (None, 62, 64)            12352     \n",
      "                                                                 \n",
      " max_pooling1d_1 (MaxPoolin  (None, 31, 64)            0         \n",
      " g1D)                                                            \n",
      "                                                                 \n",
      " qlstm (QLSTM)               (None, 31, 128)           0 (unused)\n",
      "                                                                 \n",
      " max_pooling1d_2 (MaxPoolin  (None, 16, 128)           0         \n",
      " g1D)                                                            \n",
      "                                                                 \n",
      " batch_normalization (Batch  (None, 16, 128)           512       \n",
      " Normalization)                                                  \n",
      "                                                                 \n",
      " dropout (Dropout)           (None, 16, 128)           0         \n",
      "                                                                 \n",
      " time_distributed (TimeDist  (None, 16, 64)            8256      \n",
      " ributed)                                                        \n",
      "                                                                 \n",
      " time_distributed_1 (TimeDi  (None, 16, 32)            2080      \n",
      " stributed)                                                      \n",
      "                                                                 \n",
      " time_distributed_2 (TimeDi  (None, 16, 16)            528       \n",
      " stributed)                                                      \n",
      "                                                                 \n",
      " time_distributed_3 (TimeDi  (None, 16, 8)             136       \n",
      " stributed)                                                      \n",
      "                                                                 \n",
      " flatten (Flatten)           (None, 128)               0         \n",
      "                                                                 \n",
      " dense_10 (Dense)            (None, 2)                 258       \n",
      "                                                                 \n",
      "=================================================================\n",
      "Total params: 49038 (383.11 KB)\n",
      "Trainable params: 48782 (381.11 KB)\n",
      "Non-trainable params: 256 (2.00 KB)\n",
      "_________________________________________________________________\n"
     ]
    }
   ],
   "source": [
    "number_of_classes = 2\n",
    "\n",
    "model = keras.Sequential([\n",
    "    keras.layers.Input(shape=(124, 129)),\n",
    "    Conv1D(filters=64, kernel_size=3, activation=\"gelu\", padding=\"same\"),\n",
    "    MaxPooling1D(pool_size=2, strides=2, padding=\"same\"),\n",
    "    Conv1D(filters=48, kernel_size=3, activation=\"gelu\", padding=\"same\"),\n",
    "    MaxPooling1D(pool_size=2, strides=2, padding=\"same\"),\n",
    "    Conv1D(filters=32, kernel_size=3, activation=\"gelu\", padding=\"same\"),\n",
    "    MaxPooling1D(pool_size=2, strides=2, padding=\"same\"),\n",
    "    BatchNormalization(),\n",
    "    QLSTM(128, return_sequences=True, wires=dev.qubits, layers=1),\n",
    "    MaxPooling1D(pool_size=2, strides=2, padding=\"same\"),\n",
    "    Dropout(0.1),\n",
    "    TimeDistributed(Dense(64,activation='gelu')),\n",
    "    TimeDistributed(Dense(32,activation='gelu')),\n",
    "    TimeDistributed(Dense(16,activation='gelu')),\n",
    "    TimeDistributed(Dense(8,activation='gelu')),\n",
    "    Flatten(),\n",
    "    Dense(number_of_classes,activation='gelu')\n",
    "])\n",
    "\n",
    "model.compile(\n",
    "    optimizer=keras.optimizers.Adam(learning_rate=0.01),\n",
    "    loss=keras.losses.SparseCategoricalCrossentropy(from_logits=True),\n",
    "    metrics=['accuracy']\n",
    ")\n",
    "\n",
    "model.summary()"
   ]
  },
  {
   "cell_type": "code",
   "execution_count": 4,
   "metadata": {},
   "outputs": [],
   "source": [
    "train_spectrogram_ds = tf.data.experimental.load(\n",
    "    'data/tf/train.ds', element_spec=None, compression=None, reader_func=None\n",
    ")\n",
    "\n",
    "val_spectrogram_ds = tf.data.experimental.load(\n",
    "    'data/tf/val.ds', element_spec=None, compression=None, reader_func=None\n",
    ")\n",
    "\n",
    "test_spectrogram_ds = tf.data.experimental.load(\n",
    "    'data/tf/test.ds', element_spec=None, compression=None, reader_func=None\n",
    ")\n",
    "\n",
    "batch_size = 64\n",
    "\n",
    "train_spectrogram_ds.map(lambda x, y: (tf.cast(x, dtype=dtype_global), y))\n",
    "train_spectrogram_ds = train_spectrogram_ds.unbatch().filter(lambda x, y: y == 0 or y == 1).batch(batch_size)\n",
    "\n",
    "val_spectrogram_ds.map(lambda x, y: (tf.cast(x, dtype=dtype_global), y))\n",
    "val_spectrogram_ds = val_spectrogram_ds.unbatch().filter(lambda x, y: y == 0 or y == 1).batch(batch_size)\n",
    "\n",
    "test_spectrogram_ds.map(lambda x, y: (tf.cast(x, dtype=dtype_global), y))\n",
    "test_spectrogram_ds = test_spectrogram_ds.unbatch().filter(lambda x, y: y == 0 or y == 1).batch(batch_size)\n",
    "\n",
    "train_spectrogram_ds = train_spectrogram_ds\n",
    "val_spectrogram_ds = val_spectrogram_ds\n",
    "test_spectrogram_ds = test_spectrogram_ds\n",
    "\n",
    "\n",
    "checkpoint_filepath = f\"quantum/checkpoints/asr/qlstm/checkpoint.model.{QLSTM.__module__}.q{dev.qubits}.keras\"\n",
    "model_checkpoint_callback = keras.callbacks.ModelCheckpoint(\n",
    "    filepath=checkpoint_filepath,\n",
    "    monitor='val_accuracy',\n",
    "    mode='max',\n",
    "    save_best_only=True)\n"
   ]
  },
  {
   "cell_type": "code",
   "execution_count": 5,
   "metadata": {},
   "outputs": [],
   "source": [
    "if os.path.isfile(checkpoint_filepath) and False:\n",
    "    model_loaded = load_model(checkpoint_filepath, custom_objects={'QLSTM': QLSTM})\n"
   ]
  },
  {
   "cell_type": "code",
   "execution_count": 6,
   "metadata": {},
   "outputs": [],
   "source": [
    "train_spectrogram_ds = train_spectrogram_ds.cache().prefetch(tf.data.AUTOTUNE)\n",
    "val_spectrogram_ds = val_spectrogram_ds.cache().prefetch(tf.data.AUTOTUNE)\n",
    "test_spectrogram_ds = test_spectrogram_ds.cache().prefetch(tf.data.AUTOTUNE)"
   ]
  },
  {
   "cell_type": "markdown",
   "metadata": {},
   "source": []
  },
  {
   "cell_type": "code",
   "execution_count": null,
   "metadata": {},
   "outputs": [],
   "source": []
  },
  {
   "cell_type": "code",
   "execution_count": 7,
   "metadata": {},
   "outputs": [
    {
     "name": "stdout",
     "output_type": "stream",
     "text": [
      "Epoch 1/20\n",
      "23/23 [==============================] - 1377s 60s/step - loss: 0.7309 - accuracy: 0.5126 - val_loss: 0.6928 - val_accuracy: 0.5135\n",
      "Epoch 2/20\n",
      "23/23 [==============================] - 1374s 60s/step - loss: 0.6945 - accuracy: 0.4986 - val_loss: 0.6929 - val_accuracy: 0.5135\n",
      "Epoch 3/20\n",
      "23/23 [==============================] - 1377s 60s/step - loss: 0.7600 - accuracy: 0.4790 - val_loss: 0.6932 - val_accuracy: 0.4865\n",
      "Epoch 3: early stopping\n"
     ]
    }
   ],
   "source": [
    "EPOCHS = 20\n",
    "history = model.fit(\n",
    "    train_spectrogram_ds,\n",
    "    validation_data=val_spectrogram_ds,\n",
    "    epochs=EPOCHS,\n",
    "    callbacks=[keras.callbacks.EarlyStopping(verbose=1, patience=2), model_checkpoint_callback],\n",
    ")\n"
   ]
  },
  {
   "cell_type": "code",
   "execution_count": 8,
   "metadata": {},
   "outputs": [
    {
     "data": {
      "text/plain": [
       "Text(0, 0.5, 'Accuracy [%]')"
      ]
     },
     "execution_count": 8,
     "metadata": {},
     "output_type": "execute_result"
    },
    {
     "data": {
      "image/png": "[encoded data removed]",
      "text/plain": [
       "<Figure size 1600x600 with 2 Axes>"
      ]
     },
     "metadata": {},
     "output_type": "display_data"
    }
   ],
   "source": [
    "metrics = history.history\n",
    "plt.figure(figsize=(16,6))\n",
    "plt.subplot(1,2,1)\n",
    "plt.plot(history.epoch, metrics['loss'], metrics['val_loss'])\n",
    "plt.legend(['loss', 'val_loss'])\n",
    "plt.ylim([0, max(plt.ylim())])\n",
    "plt.xlabel('Epoch')\n",
    "plt.ylabel('Loss [CrossEntropy]')\n",
    "\n",
    "plt.subplot(1,2,2)\n",
    "plt.plot(history.epoch, 100*np.array(metrics['accuracy']), 100*np.array(metrics['val_accuracy']))\n",
    "plt.legend(['accuracy', 'val_accuracy'])\n",
    "plt.ylim([0, 100])\n",
    "plt.xlabel('Epoch')\n",
    "plt.ylabel('Accuracy [%]')"
   ]
  },
  {
   "cell_type": "code",
   "execution_count": 9,
   "metadata": {},
   "outputs": [
    {
     "name": "stdout",
     "output_type": "stream",
     "text": [
      "5/5 [==============================] - 108s 21s/step - loss: 0.6931 - accuracy: 0.5144\n"
     ]
    },
    {
     "data": {
      "text/plain": [
       "{'loss': 0.693134691407462, 'accuracy': 0.5143884892086331}"
      ]
     },
     "execution_count": 9,
     "metadata": {},
     "output_type": "execute_result"
    }
   ],
   "source": [
    "model.evaluate(test_spectrogram_ds, return_dict=True)"
   ]
  }
 ],
 "metadata": {
  "kernelspec": {
   "display_name": "Python 3",
   "language": "python",
   "name": "python3"
  },
  "language_info": {
   "codemirror_mode": {
    "name": "ipython",
    "version": 3
   },
   "file_extension": ".py",
   "mimetype": "text/x-python",
   "name": "python",
   "nbconvert_exporter": "python",
   "pygments_lexer": "ipython3",
   "version": "3.11.1"
  }
 },
 "nbformat": 4,
 "nbformat_minor": 2
}
